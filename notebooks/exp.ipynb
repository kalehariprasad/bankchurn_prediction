{
 "cells": [
  {
   "cell_type": "code",
   "execution_count": 2,
   "metadata": {},
   "outputs": [],
   "source": [
    "import pandas as pd\n",
    "import os\n",
    "import numpy as np\n",
    "import seaborn as sns\n",
    "import matplotlib.pyplot as plt\n",
    "import plotly.express as px\n",
    "from sklearn.model_selection import train_test_split\n",
    "from sklearn.preprocessing import OneHotEncoder,OrdinalEncoder,StandardScaler\n",
    "from sklearn.compose import ColumnTransformer\n",
    "from sklearn.pipeline import Pipeline"
   ]
  },
  {
   "cell_type": "code",
   "execution_count": 3,
   "metadata": {},
   "outputs": [],
   "source": [
    "df=pd.read_csv('C:\\\\Users\\\\Hariprasad\\\\Documents\\\\bankchurn_prediction\\\\data\\\\interim\\\\train\\\\data.csv')"
   ]
  },
  {
   "cell_type": "code",
   "execution_count": 4,
   "metadata": {},
   "outputs": [
    {
     "data": {
      "text/html": [
       "<div>\n",
       "<style scoped>\n",
       "    .dataframe tbody tr th:only-of-type {\n",
       "        vertical-align: middle;\n",
       "    }\n",
       "\n",
       "    .dataframe tbody tr th {\n",
       "        vertical-align: top;\n",
       "    }\n",
       "\n",
       "    .dataframe thead th {\n",
       "        text-align: right;\n",
       "    }\n",
       "</style>\n",
       "<table border=\"1\" class=\"dataframe\">\n",
       "  <thead>\n",
       "    <tr style=\"text-align: right;\">\n",
       "      <th></th>\n",
       "      <th>Geography</th>\n",
       "      <th>Gender</th>\n",
       "      <th>Age</th>\n",
       "      <th>Tenure</th>\n",
       "      <th>Balance</th>\n",
       "      <th>NumOfProducts</th>\n",
       "      <th>HasCrCard</th>\n",
       "      <th>IsActiveMember</th>\n",
       "      <th>EstimatedSalary</th>\n",
       "      <th>Exited</th>\n",
       "      <th>Credit_group</th>\n",
       "    </tr>\n",
       "  </thead>\n",
       "  <tbody>\n",
       "    <tr>\n",
       "      <th>0</th>\n",
       "      <td>France</td>\n",
       "      <td>Male</td>\n",
       "      <td>57</td>\n",
       "      <td>1</td>\n",
       "      <td>0.00</td>\n",
       "      <td>2</td>\n",
       "      <td>1</td>\n",
       "      <td>1</td>\n",
       "      <td>56562.57</td>\n",
       "      <td>0</td>\n",
       "      <td>Fair</td>\n",
       "    </tr>\n",
       "    <tr>\n",
       "      <th>1</th>\n",
       "      <td>France</td>\n",
       "      <td>Female</td>\n",
       "      <td>53</td>\n",
       "      <td>8</td>\n",
       "      <td>114233.18</td>\n",
       "      <td>1</td>\n",
       "      <td>1</td>\n",
       "      <td>1</td>\n",
       "      <td>51587.04</td>\n",
       "      <td>0</td>\n",
       "      <td>Very_Good</td>\n",
       "    </tr>\n",
       "    <tr>\n",
       "      <th>2</th>\n",
       "      <td>France</td>\n",
       "      <td>Male</td>\n",
       "      <td>32</td>\n",
       "      <td>0</td>\n",
       "      <td>0.00</td>\n",
       "      <td>2</td>\n",
       "      <td>0</td>\n",
       "      <td>1</td>\n",
       "      <td>878.87</td>\n",
       "      <td>0</td>\n",
       "      <td>Poor</td>\n",
       "    </tr>\n",
       "    <tr>\n",
       "      <th>3</th>\n",
       "      <td>France</td>\n",
       "      <td>Female</td>\n",
       "      <td>32</td>\n",
       "      <td>6</td>\n",
       "      <td>184686.41</td>\n",
       "      <td>2</td>\n",
       "      <td>1</td>\n",
       "      <td>0</td>\n",
       "      <td>14956.44</td>\n",
       "      <td>0</td>\n",
       "      <td>Poor</td>\n",
       "    </tr>\n",
       "    <tr>\n",
       "      <th>4</th>\n",
       "      <td>Spain</td>\n",
       "      <td>Female</td>\n",
       "      <td>51</td>\n",
       "      <td>3</td>\n",
       "      <td>154962.99</td>\n",
       "      <td>3</td>\n",
       "      <td>0</td>\n",
       "      <td>1</td>\n",
       "      <td>191932.27</td>\n",
       "      <td>1</td>\n",
       "      <td>Fair</td>\n",
       "    </tr>\n",
       "  </tbody>\n",
       "</table>\n",
       "</div>"
      ],
      "text/plain": [
       "  Geography  Gender  Age  Tenure    Balance  NumOfProducts  HasCrCard  \\\n",
       "0    France    Male   57       1       0.00              2          1   \n",
       "1    France  Female   53       8  114233.18              1          1   \n",
       "2    France    Male   32       0       0.00              2          0   \n",
       "3    France  Female   32       6  184686.41              2          1   \n",
       "4     Spain  Female   51       3  154962.99              3          0   \n",
       "\n",
       "   IsActiveMember  EstimatedSalary  Exited Credit_group  \n",
       "0               1         56562.57       0         Fair  \n",
       "1               1         51587.04       0    Very_Good  \n",
       "2               1           878.87       0         Poor  \n",
       "3               0         14956.44       0         Poor  \n",
       "4               1        191932.27       1         Fair  "
      ]
     },
     "execution_count": 4,
     "metadata": {},
     "output_type": "execute_result"
    }
   ],
   "source": [
    "df.head()"
   ]
  },
  {
   "cell_type": "code",
   "execution_count": 5,
   "metadata": {},
   "outputs": [
    {
     "data": {
      "text/plain": [
       "Geography          0\n",
       "Gender             0\n",
       "Age                0\n",
       "Tenure             0\n",
       "Balance            0\n",
       "NumOfProducts      0\n",
       "HasCrCard          0\n",
       "IsActiveMember     0\n",
       "EstimatedSalary    0\n",
       "Exited             0\n",
       "Credit_group       0\n",
       "dtype: int64"
      ]
     },
     "execution_count": 5,
     "metadata": {},
     "output_type": "execute_result"
    }
   ],
   "source": [
    "df.isnull().sum()"
   ]
  },
  {
   "cell_type": "code",
   "execution_count": 6,
   "metadata": {},
   "outputs": [
    {
     "data": {
      "text/plain": [
       "Exited\n",
       "0    6324\n",
       "1    1674\n",
       "Name: count, dtype: int64"
      ]
     },
     "execution_count": 6,
     "metadata": {},
     "output_type": "execute_result"
    }
   ],
   "source": [
    "df['Exited'].value_counts()"
   ]
  },
  {
   "cell_type": "code",
   "execution_count": 13,
   "metadata": {},
   "outputs": [],
   "source": [
    "import pandas as pd\n",
    "\n",
    "def preprocess(df):\n",
    "    categorical_cols = ['Geography', 'Gender']\n",
    "    numerical_cols = ['Age', 'Tenure', 'Balance', 'NumOfProducts', 'HasCrCard', 'IsActiveMember', 'EstimatedSalary']\n",
    "    ordinal_cols = ['Credit_group']\n",
    "    categories = [['Poor', 'Fair', 'Good', 'Very_Good', 'Exceptional']]\n",
    "    \n",
    "\n",
    "    categorical = ColumnTransformer(\n",
    "        transformers=[\n",
    "            ('onehot', OneHotEncoder(sparse_output=False, handle_unknown='ignore'), [0,1])\n",
    "        ],\n",
    "        remainder='passthrough'\n",
    "    )\n",
    "    \n",
    "    numerical = ColumnTransformer(\n",
    "        transformers=[\n",
    "            ('num', StandardScaler(),[2,3,4,5,6,7,8])\n",
    "        ],\n",
    "        remainder='passthrough'\n",
    "    )\n",
    "\n",
    "    ordinal = ColumnTransformer(\n",
    "        transformers=[\n",
    "            ('ordinal', OrdinalEncoder(categories=categories, handle_unknown='use_encoded_value', unknown_value=-1),[10])\n",
    "        ],remainder='passthrough'\n",
    "    )\n",
    "    \n",
    "    pipeline = Pipeline([\n",
    "       \n",
    "        ('onehot', categorical), \n",
    "        ('num', numerical), \n",
    "        ('ordinal',ordinal)\n",
    "    \n",
    "        \n",
    "        \n",
    "        \n",
    "    ])\n",
    "    \n",
    "    transformed_data = pipeline.fit_transform(df)\n",
    "\n",
    "    \n",
    "    return transformed_data\n",
    "\n"
   ]
  },
  {
   "cell_type": "code",
   "execution_count": 14,
   "metadata": {},
   "outputs": [
    {
     "data": {
      "text/plain": [
       "array([[-1.0, -0.5736460297447028, -0.9191428674536236, ..., 56562.57, 0,\n",
       "        'Fair'],\n",
       "       [-1.0, -0.5736460297447028, 1.0879701463281564, ..., 51587.04, 0,\n",
       "        'Very_Good'],\n",
       "       [-1.0, -0.5736460297447028, -0.9191428674536236, ..., 878.87, 0,\n",
       "        'Poor'],\n",
       "       ...,\n",
       "       [-1.0, -0.5736460297447028, -0.9191428674536236, ..., 51980.25, 1,\n",
       "        'Good'],\n",
       "       [-1.0, -0.5736460297447028, -0.9191428674536236, ..., 27802.0, 0,\n",
       "        'Poor'],\n",
       "       [-1.0, -0.5736460297447028, -0.9191428674536236, ..., 187638.34,\n",
       "        0, 'Fair']], dtype=object)"
      ]
     },
     "execution_count": 14,
     "metadata": {},
     "output_type": "execute_result"
    }
   ],
   "source": [
    "preprocess(df)"
   ]
  },
  {
   "cell_type": "code",
   "execution_count": 7,
   "metadata": {},
   "outputs": [
    {
     "name": "stdout",
     "output_type": "stream",
     "text": [
      "[[ 1.          0.          0.         ...  0.97774202 -0.75691549\n",
      "   1.        ]\n",
      " [ 1.          0.          0.         ...  0.97774202 -0.8434816\n",
      "   3.        ]\n",
      " [ 1.          0.          0.         ...  0.97774202 -1.7257211\n",
      "   0.        ]\n",
      " ...\n",
      " [ 1.          0.          0.         ... -1.02276468 -0.83664039\n",
      "   2.        ]\n",
      " [ 1.          0.          0.         ...  0.97774202 -1.25730253\n",
      "   0.        ]\n",
      " [ 1.          0.          0.         ... -1.02276468  1.52358924\n",
      "   1.        ]]\n"
     ]
    }
   ],
   "source": [
    "import pandas as pd\n",
    "from sklearn.compose import ColumnTransformer\n",
    "from sklearn.pipeline import Pipeline\n",
    "from sklearn.preprocessing import OneHotEncoder, StandardScaler, OrdinalEncoder\n",
    "\n",
    "from imblearn.over_sampling import SMOTE\n",
    "resampler = SMOTE()\n",
    "\n",
    "categorical_cols = ['Geography', 'Gender']\n",
    "numerical_cols = ['Age', 'Tenure', 'Balance', 'NumOfProducts', 'HasCrCard', 'IsActiveMember', 'EstimatedSalary']\n",
    "ordinal_cols = ['Credit_group']\n",
    "\n",
    "# Create the transformers\n",
    "categorical_transformer = Pipeline(steps=[\n",
    "    ('onehot', OneHotEncoder(handle_unknown='ignore'))\n",
    "])\n",
    "\n",
    "numerical_transformer = Pipeline(steps=[\n",
    "    ('scaler', StandardScaler())\n",
    "])\n",
    "\n",
    "ordinal_transformer = Pipeline(steps=[\n",
    "    ('ordinal', OrdinalEncoder(categories=[['Poor', 'Fair', 'Good', 'Very_Good', 'Exceptional']]))\n",
    "])\n",
    "\n",
    "# Apply transformers to appropriate columns\n",
    "preprocessor = ColumnTransformer(\n",
    "    transformers=[\n",
    "        ('cat', categorical_transformer, categorical_cols),\n",
    "        ('num', numerical_transformer, numerical_cols),\n",
    "        ('ord', ordinal_transformer, ordinal_cols)\n",
    "    ])\n",
    "\n",
    "\n",
    "# Create the preprocessing pipeline\n",
    "pipeline = Pipeline(steps=[('preprocessor', preprocessor)])\n",
    "\n",
    "# Apply preprocessing to the DataFrame\n",
    "transformed_data = pipeline.fit_transform(df)\n",
    "\n",
    "\n",
    "# Print the transformed data\n",
    "print(transformed_data)\n"
   ]
  },
  {
   "cell_type": "code",
   "execution_count": 8,
   "metadata": {},
   "outputs": [
    {
     "name": "stdout",
     "output_type": "stream",
     "text": [
      "['Geography_France', 'Geography_Germany', 'Geography_Spain', 'Gender_Female', 'Gender_Male', 'Age', 'Tenure', 'Balance', 'NumOfProducts', 'HasCrCard', 'IsActiveMember', 'EstimatedSalary', 'Credit_group']\n"
     ]
    }
   ],
   "source": [
    "# Assuming preprocessor is your preprocessing pipeline or ColumnTransformer\n",
    "preprocessor = pipeline.named_steps['preprocessor']\n",
    "\n",
    "# Get the transformed column names\n",
    "transformed_column_names = []\n",
    "\n",
    "# For categorical columns\n",
    "if 'cat' in preprocessor.named_transformers_:\n",
    "    transformed_column_names.extend(preprocessor.named_transformers_['cat'].named_steps['onehot'].get_feature_names_out())\n",
    "\n",
    "# For numerical columns\n",
    "if 'num' in preprocessor.named_transformers_:\n",
    "    transformed_column_names.extend(numerical_cols)  # Use the original numerical column names\n",
    "\n",
    "# For ordinal columns\n",
    "if 'ord' in preprocessor.named_transformers_:\n",
    "    transformed_column_names.extend(ordinal_cols)  # Use the original ordinal column names\n",
    "\n",
    "# Print the transformed column names\n",
    "print(transformed_column_names)\n"
   ]
  },
  {
   "cell_type": "code",
   "execution_count": null,
   "metadata": {},
   "outputs": [],
   "source": []
  }
 ],
 "metadata": {
  "kernelspec": {
   "display_name": "Python 3",
   "language": "python",
   "name": "python3"
  },
  "language_info": {
   "codemirror_mode": {
    "name": "ipython",
    "version": 3
   },
   "file_extension": ".py",
   "mimetype": "text/x-python",
   "name": "python",
   "nbconvert_exporter": "python",
   "pygments_lexer": "ipython3",
   "version": "3.10.14"
  }
 },
 "nbformat": 4,
 "nbformat_minor": 2
}
